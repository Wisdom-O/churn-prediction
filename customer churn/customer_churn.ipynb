{
 "cells": [
  {
   "cell_type": "markdown",
   "metadata": {},
   "source": [
    "The dataset used in this project is a dataset of customers from a telecommunications company. The data was gotten from kaggle.\n",
    "<br>\n",
    "The purpose of this analysis is to build a classification model that predicts customer churn accurately."
   ]
  },
  {
   "cell_type": "code",
   "execution_count": 6,
   "metadata": {},
   "outputs": [],
   "source": [
    "# importing neccessary libraries\n",
    "import pandas as pd\n",
    "import numpy as np\n",
    "import matplotlib.pyplot as plt\n",
    "import seaborn as sns\n",
    "import warnings\n",
    "#pip install -U imbalanced-learn\n",
    "import data_preprocessing as dataprep\n",
    "from imblearn.over_sampling import SMOTE\n",
    "from imblearn.under_sampling import RandomUnderSampler\n",
    "from category_encoders import OneHotEncoder\n",
    "from sklearn.preprocessing import LabelEncoder\n",
    "from sklearn.preprocessing import StandardScaler\n",
    "from sklearn.linear_model import LogisticRegression\n",
    "from sklearn.svm import SVC\n",
    "from sklearn.ensemble import RandomForestClassifier\n",
    "from sklearn.pipeline import Pipeline\n",
    "from sklearn.model_selection import cross_val_score, GridSearchCV, StratifiedShuffleSplit\n",
    "from imblearn.pipeline import Pipeline as sampling_pipeline\n",
    "from sklearn.metrics import classification_report, plot_confusion_matrix, confusion_matrix\n",
    "from sklearn.tree import DecisionTreeClassifier\n",
    "from sklearn import tree\n",
    "import xgboost \n",
    "warnings.filterwarnings(\"ignore\")\n",
    "pd.set_option(\"max_columns\",100)"
   ]
  },
  {
   "cell_type": "code",
   "execution_count": 7,
   "metadata": {},
   "outputs": [],
   "source": [
    "# reading in the dataset and splitting it into a train and test set for analysis\n",
    "df = pd.read_csv(\"train.csv\")\n",
    "split = StratifiedShuffleSplit(n_splits=1, test_size=0.2)\n",
    "for train_index, test_index in split.split(df, df.churn):\n",
    "    train = df.iloc[train_index]\n",
    "    test = df.iloc[test_index]\n",
    "train.reset_index(drop=True, inplace=True)\n",
    "test.reset_index(drop=True, inplace=True)"
   ]
  },
  {
   "cell_type": "code",
   "execution_count": 8,
   "metadata": {},
   "outputs": [
    {
     "data": {
      "text/html": [
       "<div>\n",
       "<style scoped>\n",
       "    .dataframe tbody tr th:only-of-type {\n",
       "        vertical-align: middle;\n",
       "    }\n",
       "\n",
       "    .dataframe tbody tr th {\n",
       "        vertical-align: top;\n",
       "    }\n",
       "\n",
       "    .dataframe thead th {\n",
       "        text-align: right;\n",
       "    }\n",
       "</style>\n",
       "<table border=\"1\" class=\"dataframe\">\n",
       "  <thead>\n",
       "    <tr style=\"text-align: right;\">\n",
       "      <th></th>\n",
       "      <th>state</th>\n",
       "      <th>account_length</th>\n",
       "      <th>area_code</th>\n",
       "      <th>international_plan</th>\n",
       "      <th>voice_mail_plan</th>\n",
       "      <th>number_vmail_messages</th>\n",
       "      <th>total_day_minutes</th>\n",
       "      <th>total_day_calls</th>\n",
       "      <th>total_day_charge</th>\n",
       "      <th>total_eve_minutes</th>\n",
       "      <th>total_eve_calls</th>\n",
       "      <th>total_eve_charge</th>\n",
       "      <th>total_night_minutes</th>\n",
       "      <th>total_night_calls</th>\n",
       "      <th>total_night_charge</th>\n",
       "      <th>total_intl_minutes</th>\n",
       "      <th>total_intl_calls</th>\n",
       "      <th>total_intl_charge</th>\n",
       "      <th>number_customer_service_calls</th>\n",
       "      <th>churn</th>\n",
       "    </tr>\n",
       "  </thead>\n",
       "  <tbody>\n",
       "    <tr>\n",
       "      <th>0</th>\n",
       "      <td>ME</td>\n",
       "      <td>123</td>\n",
       "      <td>area_code_408</td>\n",
       "      <td>no</td>\n",
       "      <td>no</td>\n",
       "      <td>0</td>\n",
       "      <td>114.4</td>\n",
       "      <td>91</td>\n",
       "      <td>19.45</td>\n",
       "      <td>216.6</td>\n",
       "      <td>123</td>\n",
       "      <td>18.41</td>\n",
       "      <td>250.6</td>\n",
       "      <td>102</td>\n",
       "      <td>11.28</td>\n",
       "      <td>11.0</td>\n",
       "      <td>3</td>\n",
       "      <td>2.97</td>\n",
       "      <td>0</td>\n",
       "      <td>no</td>\n",
       "    </tr>\n",
       "    <tr>\n",
       "      <th>1</th>\n",
       "      <td>MO</td>\n",
       "      <td>154</td>\n",
       "      <td>area_code_415</td>\n",
       "      <td>no</td>\n",
       "      <td>no</td>\n",
       "      <td>0</td>\n",
       "      <td>162.0</td>\n",
       "      <td>87</td>\n",
       "      <td>27.54</td>\n",
       "      <td>199.5</td>\n",
       "      <td>147</td>\n",
       "      <td>16.96</td>\n",
       "      <td>243.0</td>\n",
       "      <td>66</td>\n",
       "      <td>10.93</td>\n",
       "      <td>1.1</td>\n",
       "      <td>5</td>\n",
       "      <td>0.30</td>\n",
       "      <td>1</td>\n",
       "      <td>no</td>\n",
       "    </tr>\n",
       "  </tbody>\n",
       "</table>\n",
       "</div>"
      ],
      "text/plain": [
       "  state  account_length      area_code international_plan voice_mail_plan  \\\n",
       "0    ME             123  area_code_408                 no              no   \n",
       "1    MO             154  area_code_415                 no              no   \n",
       "\n",
       "   number_vmail_messages  total_day_minutes  total_day_calls  \\\n",
       "0                      0              114.4               91   \n",
       "1                      0              162.0               87   \n",
       "\n",
       "   total_day_charge  total_eve_minutes  total_eve_calls  total_eve_charge  \\\n",
       "0             19.45              216.6              123             18.41   \n",
       "1             27.54              199.5              147             16.96   \n",
       "\n",
       "   total_night_minutes  total_night_calls  total_night_charge  \\\n",
       "0                250.6                102               11.28   \n",
       "1                243.0                 66               10.93   \n",
       "\n",
       "   total_intl_minutes  total_intl_calls  total_intl_charge  \\\n",
       "0                11.0                 3               2.97   \n",
       "1                 1.1                 5               0.30   \n",
       "\n",
       "   number_customer_service_calls churn  \n",
       "0                              0    no  \n",
       "1                              1    no  "
      ]
     },
     "execution_count": 8,
     "metadata": {},
     "output_type": "execute_result"
    }
   ],
   "source": [
    "train.head(2)"
   ]
  },
  {
   "cell_type": "code",
   "execution_count": 9,
   "metadata": {},
   "outputs": [],
   "source": [
    "# creating lists of categorical and numerical columns\n",
    "cat_cols = [i for i in train.columns if train[i].dtype==object]\n",
    "numeric_cols = [i for i in train.columns if train[i].dtype!=object]"
   ]
  },
  {
   "cell_type": "code",
   "execution_count": 10,
   "metadata": {},
   "outputs": [
    {
     "data": {
      "text/plain": [
       "<matplotlib.axes._subplots.AxesSubplot at 0x19a59285c10>"
      ]
     },
     "execution_count": 10,
     "metadata": {},
     "output_type": "execute_result"
    },
    {
     "data": {
      "image/png": "[encoded data removed]",
      "text/plain": [
       "<Figure size 1080x504 with 2 Axes>"
      ]
     },
     "metadata": {
      "needs_background": "light"
     },
     "output_type": "display_data"
    }
   ],
   "source": [
    "# plotting a heatmap of the correlation of the values in the columns\n",
    "plt.figure(figsize=(15, 7))\n",
    "sns.heatmap(train.corr())"
   ]
  },
  {
   "cell_type": "markdown",
   "metadata": {},
   "source": [
    "The heatmap above shows very strong correlation between some variables in the dataset.\n",
    "<br>\n",
    "Variables with very strong correlation include:\n",
    " - total day charge and total day minutes\n",
    " - total eve charge and total eve minutes\n",
    " - total international charge and total international minutes.\n",
    "\n",
    "<br>\n",
    "It makes sense that these columns are perfectly correlated with each other as the total _ charge is a linear combination of the total _ minutes multiplied by the charge per minute.\n",
    "one of each of these columns would be dropped and the other would be used."
   ]
  },
  {
   "cell_type": "code",
   "execution_count": 11,
   "metadata": {},
   "outputs": [],
   "source": [
    "# Encoding the target column and creating a list of categorical columns that would be encoded\n",
    "# The state column would be dropped as it contains too many categories in it.\n",
    "X, y = train.drop(\"churn\", axis=1), train.churn\n",
    "label=LabelEncoder()\n",
    "y = pd.Series(label.fit_transform(y), name=\"churn\")\n",
    "cols_to_encode = cat_cols.copy()\n",
    "cols_to_encode.remove(\"churn\")\n",
    "cols_to_encode.remove(\"state\")"
   ]
  },
  {
   "cell_type": "code",
   "execution_count": 12,
   "metadata": {},
   "outputs": [],
   "source": [
    "# creating a preprocessing pipeline that encodes the categorical columns using OneHotEncoder, drops the state column, drops correlated \n",
    "# columns, and scales the features in the dataset.\n",
    "encoder = OneHotEncoder(cols=cols_to_encode,use_cat_names=True)\n",
    "drop_cols = dataprep.Drop_cols([\"state\"])\n",
    "return_uncorrelated= dataprep.SelectedColumns(upper_limit=0.6, lower_limit=0.85)\n",
    "scaler=StandardScaler()\n",
    "steps = [(\"encode_x\", encoder),\n",
    "         (\"drop_cols\", drop_cols),\n",
    "        (\"drop_correlated\", return_uncorrelated),\n",
    "         (\"scale_features\", scaler)]   \n",
    "preprocess = Pipeline(steps=steps)\n",
    "X = pd.DataFrame(preprocess.fit_transform(X), columns=return_uncorrelated.cols)"
   ]
  },
  {
   "cell_type": "code",
   "execution_count": 13,
   "metadata": {},
   "outputs": [
    {
     "data": {
      "text/html": [
       "<div>\n",
       "<style scoped>\n",
       "    .dataframe tbody tr th:only-of-type {\n",
       "        vertical-align: middle;\n",
       "    }\n",
       "\n",
       "    .dataframe tbody tr th {\n",
       "        vertical-align: top;\n",
       "    }\n",
       "\n",
       "    .dataframe thead th {\n",
       "        text-align: right;\n",
       "    }\n",
       "</style>\n",
       "<table border=\"1\" class=\"dataframe\">\n",
       "  <thead>\n",
       "    <tr style=\"text-align: right;\">\n",
       "      <th></th>\n",
       "      <th>account_length</th>\n",
       "      <th>area_code_area_code_408</th>\n",
       "      <th>area_code_area_code_415</th>\n",
       "      <th>area_code_area_code_510</th>\n",
       "      <th>international_plan_no</th>\n",
       "      <th>voice_mail_plan_no</th>\n",
       "      <th>total_day_minutes</th>\n",
       "      <th>total_day_calls</th>\n",
       "      <th>total_eve_minutes</th>\n",
       "      <th>total_eve_calls</th>\n",
       "      <th>total_night_minutes</th>\n",
       "      <th>total_night_calls</th>\n",
       "      <th>total_intl_minutes</th>\n",
       "      <th>total_intl_calls</th>\n",
       "      <th>number_customer_service_calls</th>\n",
       "    </tr>\n",
       "  </thead>\n",
       "  <tbody>\n",
       "    <tr>\n",
       "      <th>0</th>\n",
       "      <td>0.573267</td>\n",
       "      <td>1.689638</td>\n",
       "      <td>-0.977891</td>\n",
       "      <td>-0.580067</td>\n",
       "      <td>0.321216</td>\n",
       "      <td>0.592296</td>\n",
       "      <td>-1.225763</td>\n",
       "      <td>-0.439057</td>\n",
       "      <td>0.331854</td>\n",
       "      <td>1.141884</td>\n",
       "      <td>1.005425</td>\n",
       "      <td>0.117445</td>\n",
       "      <td>0.273629</td>\n",
       "      <td>-0.579246</td>\n",
       "      <td>-1.191410</td>\n",
       "    </tr>\n",
       "    <tr>\n",
       "      <th>1</th>\n",
       "      <td>1.348668</td>\n",
       "      <td>-0.591843</td>\n",
       "      <td>1.022608</td>\n",
       "      <td>-0.580067</td>\n",
       "      <td>0.321216</td>\n",
       "      <td>0.592296</td>\n",
       "      <td>-0.347155</td>\n",
       "      <td>-0.640575</td>\n",
       "      <td>-0.007617</td>\n",
       "      <td>2.339296</td>\n",
       "      <td>0.854311</td>\n",
       "      <td>-1.670301</td>\n",
       "      <td>-3.308076</td>\n",
       "      <td>0.238117</td>\n",
       "      <td>-0.433827</td>\n",
       "    </tr>\n",
       "  </tbody>\n",
       "</table>\n",
       "</div>"
      ],
      "text/plain": [
       "   account_length  area_code_area_code_408  area_code_area_code_415  \\\n",
       "0        0.573267                 1.689638                -0.977891   \n",
       "1        1.348668                -0.591843                 1.022608   \n",
       "\n",
       "   area_code_area_code_510  international_plan_no  voice_mail_plan_no  \\\n",
       "0                -0.580067               0.321216            0.592296   \n",
       "1                -0.580067               0.321216            0.592296   \n",
       "\n",
       "   total_day_minutes  total_day_calls  total_eve_minutes  total_eve_calls  \\\n",
       "0          -1.225763        -0.439057           0.331854         1.141884   \n",
       "1          -0.347155        -0.640575          -0.007617         2.339296   \n",
       "\n",
       "   total_night_minutes  total_night_calls  total_intl_minutes  \\\n",
       "0             1.005425           0.117445            0.273629   \n",
       "1             0.854311          -1.670301           -3.308076   \n",
       "\n",
       "   total_intl_calls  number_customer_service_calls  \n",
       "0         -0.579246                      -1.191410  \n",
       "1          0.238117                      -0.433827  "
      ]
     },
     "execution_count": 13,
     "metadata": {},
     "output_type": "execute_result"
    }
   ],
   "source": [
    "# checking the head of the transformed data\n",
    "X.head(2)"
   ]
  },
  {
   "cell_type": "code",
   "execution_count": 14,
   "metadata": {},
   "outputs": [
    {
     "data": {
      "text/plain": [
       "(3400, 15)"
      ]
     },
     "execution_count": 14,
     "metadata": {},
     "output_type": "execute_result"
    }
   ],
   "source": [
    "X.shape"
   ]
  },
  {
   "cell_type": "markdown",
   "metadata": {},
   "source": [
    "Datasets involving customer churn are mostly imbalanced as the proportion of customers that do not churn is way higher than that of customers that churn; for this data set this proportion is shown below:"
   ]
  },
  {
   "cell_type": "code",
   "execution_count": 15,
   "metadata": {},
   "outputs": [
    {
     "data": {
      "text/plain": [
       "0    0.859412\n",
       "1    0.140588\n",
       "Name: churn, dtype: float64"
      ]
     },
     "execution_count": 15,
     "metadata": {},
     "output_type": "execute_result"
    }
   ],
   "source": [
    "y.value_counts(normalize=True)"
   ]
  },
  {
   "cell_type": "markdown",
   "metadata": {},
   "source": [
    "To improve this proportion, Synthentic Minority Oversampling Technique (SMOTE) combined with Random Oversampling would be used to create a more balanced dataset for training the model."
   ]
  },
  {
   "cell_type": "code",
   "execution_count": 16,
   "metadata": {},
   "outputs": [],
   "source": [
    "# Oversampling the minority class and undersampling the majority class to create a moe balanced dataset for training the churn prediction\n",
    "# model.\n",
    "smote = SMOTE(sampling_strategy=0.4, random_state=42)\n",
    "undersampler = RandomUnderSampler(sampling_strategy=0.6, random_state=42)\n",
    "sampling = sampling_pipeline(steps=[(\"over\", smote), (\"under\", undersampler)])\n",
    "X_1, y_1 = sampling.fit_resample(X, y)"
   ]
  },
  {
   "cell_type": "code",
   "execution_count": 17,
   "metadata": {},
   "outputs": [
    {
     "data": {
      "text/plain": [
       "0    0.62492\n",
       "1    0.37508\n",
       "Name: churn, dtype: float64"
      ]
     },
     "execution_count": 17,
     "metadata": {},
     "output_type": "execute_result"
    }
   ],
   "source": [
    "y_1.value_counts(normalize=True)"
   ]
  },
  {
   "cell_type": "code",
   "execution_count": 18,
   "metadata": {},
   "outputs": [
    {
     "data": {
      "text/plain": [
       "<matplotlib.axes._subplots.AxesSubplot at 0x19a52da1b80>"
      ]
     },
     "execution_count": 18,
     "metadata": {},
     "output_type": "execute_result"
    },
    {
     "data": {
      "image/png": "[encoded data removed]",
      "text/plain": [
       "<Figure size 1080x504 with 2 Axes>"
      ]
     },
     "metadata": {
      "needs_background": "light"
     },
     "output_type": "display_data"
    }
   ],
   "source": [
    "# merging the features and the target variable and creating a correlation plot to inspect the correlation of columns in the dataset\n",
    "merged = X_1.merge(y_1, left_index=True, right_index=True)\n",
    "plt.figure(figsize=(15,7))\n",
    "sns.heatmap(merged.corr())"
   ]
  },
  {
   "cell_type": "markdown",
   "metadata": {},
   "source": [
    "Columns show little to no correlation. Moving on to model selection"
   ]
  },
  {
   "cell_type": "markdown",
   "metadata": {},
   "source": [
    "### Model Selection"
   ]
  },
  {
   "cell_type": "markdown",
   "metadata": {},
   "source": [
    "Since the purpose of the model is to predict customer churn in order to reduce/prevent it, the metric that would be used for evaluating the performance of the models is the Recall.\n",
    "<br>\n",
    "Recall is given by: \n",
    "#### $ \\frac{TP}{TP+FN} $   \n",
    "Maximizing this metric would help ensure that the model accurately captures churn although it would also reduce the precision of the model leading to predicting churn for customers that are less likely to churn."
   ]
  },
  {
   "cell_type": "markdown",
   "metadata": {},
   "source": [
    "#### Logistic Regression"
   ]
  },
  {
   "cell_type": "markdown",
   "metadata": {},
   "source": [
    "##### L1 Regularization"
   ]
  },
  {
   "cell_type": "code",
   "execution_count": 19,
   "metadata": {},
   "outputs": [
    {
     "data": {
      "text/plain": [
       "GridSearchCV(estimator=LogisticRegression(penalty='l1'), n_jobs=-1,\n",
       "             param_grid={'C': [0.1, 0.2, 0.3, 0.35, 0.4],\n",
       "                         'solver': ['saga', 'sag', 'liblinear']},\n",
       "             return_train_score=True, scoring='recall')"
      ]
     },
     "execution_count": 19,
     "metadata": {},
     "output_type": "execute_result"
    }
   ],
   "source": [
    "paraml1 = {\"solver\": [\"saga\", \"sag\", \"liblinear\"],\n",
    "           \"C\": [0.1,0.2, 0.3, 0.35, 0.4]\n",
    "          }\n",
    "grid_l1 = GridSearchCV(estimator=LogisticRegression(penalty=\"l1\"), param_grid=paraml1, n_jobs=-1, scoring=\"recall\",\n",
    "                      return_train_score=True)\n",
    "grid_l1.fit(X_1, y_1)"
   ]
  },
  {
   "cell_type": "code",
   "execution_count": 20,
   "metadata": {},
   "outputs": [
    {
     "data": {
      "text/plain": [
       "0.6292652507244781"
      ]
     },
     "execution_count": 20,
     "metadata": {},
     "output_type": "execute_result"
    }
   ],
   "source": [
    "grid_l1.best_score_"
   ]
  },
  {
   "cell_type": "code",
   "execution_count": 21,
   "metadata": {},
   "outputs": [
    {
     "data": {
      "text/plain": [
       "{'C': 0.2, 'solver': 'liblinear'}"
      ]
     },
     "execution_count": 21,
     "metadata": {},
     "output_type": "execute_result"
    }
   ],
   "source": [
    "grid_l1.best_params_"
   ]
  },
  {
   "cell_type": "code",
   "execution_count": 22,
   "metadata": {},
   "outputs": [
    {
     "data": {
      "text/html": [
       "<div>\n",
       "<style scoped>\n",
       "    .dataframe tbody tr th:only-of-type {\n",
       "        vertical-align: middle;\n",
       "    }\n",
       "\n",
       "    .dataframe tbody tr th {\n",
       "        vertical-align: top;\n",
       "    }\n",
       "\n",
       "    .dataframe thead th {\n",
       "        text-align: right;\n",
       "    }\n",
       "</style>\n",
       "<table border=\"1\" class=\"dataframe\">\n",
       "  <thead>\n",
       "    <tr style=\"text-align: right;\">\n",
       "      <th></th>\n",
       "      <th>mean_fit_time</th>\n",
       "      <th>std_fit_time</th>\n",
       "      <th>mean_score_time</th>\n",
       "      <th>std_score_time</th>\n",
       "      <th>param_C</th>\n",
       "      <th>param_solver</th>\n",
       "      <th>params</th>\n",
       "      <th>split0_test_score</th>\n",
       "      <th>split1_test_score</th>\n",
       "      <th>split2_test_score</th>\n",
       "      <th>split3_test_score</th>\n",
       "      <th>split4_test_score</th>\n",
       "      <th>mean_test_score</th>\n",
       "      <th>std_test_score</th>\n",
       "      <th>rank_test_score</th>\n",
       "      <th>split0_train_score</th>\n",
       "      <th>split1_train_score</th>\n",
       "      <th>split2_train_score</th>\n",
       "      <th>split3_train_score</th>\n",
       "      <th>split4_train_score</th>\n",
       "      <th>mean_train_score</th>\n",
       "      <th>std_train_score</th>\n",
       "    </tr>\n",
       "  </thead>\n",
       "  <tbody>\n",
       "    <tr>\n",
       "      <th>5</th>\n",
       "      <td>0.011118</td>\n",
       "      <td>0.001641</td>\n",
       "      <td>0.0048</td>\n",
       "      <td>0.000747</td>\n",
       "      <td>0.2</td>\n",
       "      <td>liblinear</td>\n",
       "      <td>{'C': 0.2, 'solver': 'liblinear'}</td>\n",
       "      <td>0.600858</td>\n",
       "      <td>0.645299</td>\n",
       "      <td>0.636752</td>\n",
       "      <td>0.623932</td>\n",
       "      <td>0.639485</td>\n",
       "      <td>0.629265</td>\n",
       "      <td>0.01583</td>\n",
       "      <td>1</td>\n",
       "      <td>0.634225</td>\n",
       "      <td>0.638116</td>\n",
       "      <td>0.634904</td>\n",
       "      <td>0.627409</td>\n",
       "      <td>0.631016</td>\n",
       "      <td>0.633134</td>\n",
       "      <td>0.003644</td>\n",
       "    </tr>\n",
       "  </tbody>\n",
       "</table>\n",
       "</div>"
      ],
      "text/plain": [
       "   mean_fit_time  std_fit_time  mean_score_time  std_score_time param_C  \\\n",
       "5       0.011118      0.001641           0.0048        0.000747     0.2   \n",
       "\n",
       "  param_solver                             params  split0_test_score  \\\n",
       "5    liblinear  {'C': 0.2, 'solver': 'liblinear'}           0.600858   \n",
       "\n",
       "   split1_test_score  split2_test_score  split3_test_score  split4_test_score  \\\n",
       "5           0.645299           0.636752           0.623932           0.639485   \n",
       "\n",
       "   mean_test_score  std_test_score  rank_test_score  split0_train_score  \\\n",
       "5         0.629265         0.01583                1            0.634225   \n",
       "\n",
       "   split1_train_score  split2_train_score  split3_train_score  \\\n",
       "5            0.638116            0.634904            0.627409   \n",
       "\n",
       "   split4_train_score  mean_train_score  std_train_score  \n",
       "5            0.631016          0.633134         0.003644  "
      ]
     },
     "execution_count": 22,
     "metadata": {},
     "output_type": "execute_result"
    }
   ],
   "source": [
    "pd.DataFrame(grid_l1.cv_results_).sort_values(by=\"rank_test_score\").head(1)"
   ]
  },
  {
   "cell_type": "markdown",
   "metadata": {},
   "source": [
    "##### L2 Regularization"
   ]
  },
  {
   "cell_type": "code",
   "execution_count": 23,
   "metadata": {},
   "outputs": [
    {
     "data": {
      "text/plain": [
       "GridSearchCV(cv=10, estimator=LogisticRegression(), n_jobs=-1,\n",
       "             param_grid={'C': [0.4, 0.6, 0.8, 1.0, 1.2],\n",
       "                         'solver': ['sag', 'saga', 'newton-cg', 'lbfgs']},\n",
       "             return_train_score=True, scoring='recall')"
      ]
     },
     "execution_count": 23,
     "metadata": {},
     "output_type": "execute_result"
    }
   ],
   "source": [
    "paraml2 = {\"solver\": [\"sag\", \"saga\", \"newton-cg\", \"lbfgs\"],\n",
    "           \"C\": [0.4, 0.6,0.8,1.0,1.2]    \n",
    "}\n",
    "grid_l2 = GridSearchCV(LogisticRegression(penalty=\"l2\"), param_grid=paraml2, scoring=\"recall\", n_jobs=-1, return_train_score=True, cv=10)\n",
    "grid_l2.fit(X_1, y_1)"
   ]
  },
  {
   "cell_type": "code",
   "execution_count": 24,
   "metadata": {},
   "outputs": [
    {
     "data": {
      "text/plain": [
       "0.6224580017683465"
      ]
     },
     "execution_count": 24,
     "metadata": {},
     "output_type": "execute_result"
    }
   ],
   "source": [
    "grid_l2.best_score_"
   ]
  },
  {
   "cell_type": "code",
   "execution_count": 25,
   "metadata": {},
   "outputs": [
    {
     "data": {
      "text/plain": [
       "{'C': 0.4, 'solver': 'sag'}"
      ]
     },
     "execution_count": 25,
     "metadata": {},
     "output_type": "execute_result"
    }
   ],
   "source": [
    "grid_l2.best_params_"
   ]
  },
  {
   "cell_type": "code",
   "execution_count": 26,
   "metadata": {},
   "outputs": [
    {
     "data": {
      "text/html": [
       "<div>\n",
       "<style scoped>\n",
       "    .dataframe tbody tr th:only-of-type {\n",
       "        vertical-align: middle;\n",
       "    }\n",
       "\n",
       "    .dataframe tbody tr th {\n",
       "        vertical-align: top;\n",
       "    }\n",
       "\n",
       "    .dataframe thead th {\n",
       "        text-align: right;\n",
       "    }\n",
       "</style>\n",
       "<table border=\"1\" class=\"dataframe\">\n",
       "  <thead>\n",
       "    <tr style=\"text-align: right;\">\n",
       "      <th></th>\n",
       "      <th>mean_fit_time</th>\n",
       "      <th>std_fit_time</th>\n",
       "      <th>mean_score_time</th>\n",
       "      <th>std_score_time</th>\n",
       "      <th>param_C</th>\n",
       "      <th>param_solver</th>\n",
       "      <th>params</th>\n",
       "      <th>split0_test_score</th>\n",
       "      <th>split1_test_score</th>\n",
       "      <th>split2_test_score</th>\n",
       "      <th>split3_test_score</th>\n",
       "      <th>split4_test_score</th>\n",
       "      <th>split5_test_score</th>\n",
       "      <th>split6_test_score</th>\n",
       "      <th>split7_test_score</th>\n",
       "      <th>split8_test_score</th>\n",
       "      <th>split9_test_score</th>\n",
       "      <th>mean_test_score</th>\n",
       "      <th>std_test_score</th>\n",
       "      <th>rank_test_score</th>\n",
       "      <th>split0_train_score</th>\n",
       "      <th>split1_train_score</th>\n",
       "      <th>split2_train_score</th>\n",
       "      <th>split3_train_score</th>\n",
       "      <th>split4_train_score</th>\n",
       "      <th>split5_train_score</th>\n",
       "      <th>split6_train_score</th>\n",
       "      <th>split7_train_score</th>\n",
       "      <th>split8_train_score</th>\n",
       "      <th>split9_train_score</th>\n",
       "      <th>mean_train_score</th>\n",
       "      <th>std_train_score</th>\n",
       "    </tr>\n",
       "  </thead>\n",
       "  <tbody>\n",
       "    <tr>\n",
       "      <th>0</th>\n",
       "      <td>0.029874</td>\n",
       "      <td>0.00164</td>\n",
       "      <td>0.004243</td>\n",
       "      <td>0.001076</td>\n",
       "      <td>0.4</td>\n",
       "      <td>sag</td>\n",
       "      <td>{'C': 0.4, 'solver': 'sag'}</td>\n",
       "      <td>0.623932</td>\n",
       "      <td>0.555556</td>\n",
       "      <td>0.623932</td>\n",
       "      <td>0.641026</td>\n",
       "      <td>0.577586</td>\n",
       "      <td>0.698276</td>\n",
       "      <td>0.65812</td>\n",
       "      <td>0.57265</td>\n",
       "      <td>0.623932</td>\n",
       "      <td>0.649573</td>\n",
       "      <td>0.622458</td>\n",
       "      <td>0.041324</td>\n",
       "      <td>1</td>\n",
       "      <td>0.627973</td>\n",
       "      <td>0.631779</td>\n",
       "      <td>0.627973</td>\n",
       "      <td>0.635585</td>\n",
       "      <td>0.642586</td>\n",
       "      <td>0.620722</td>\n",
       "      <td>0.624167</td>\n",
       "      <td>0.633682</td>\n",
       "      <td>0.641294</td>\n",
       "      <td>0.621313</td>\n",
       "      <td>0.630708</td>\n",
       "      <td>0.007298</td>\n",
       "    </tr>\n",
       "  </tbody>\n",
       "</table>\n",
       "</div>"
      ],
      "text/plain": [
       "   mean_fit_time  std_fit_time  mean_score_time  std_score_time param_C  \\\n",
       "0       0.029874       0.00164         0.004243        0.001076     0.4   \n",
       "\n",
       "  param_solver                       params  split0_test_score  \\\n",
       "0          sag  {'C': 0.4, 'solver': 'sag'}           0.623932   \n",
       "\n",
       "   split1_test_score  split2_test_score  split3_test_score  split4_test_score  \\\n",
       "0           0.555556           0.623932           0.641026           0.577586   \n",
       "\n",
       "   split5_test_score  split6_test_score  split7_test_score  split8_test_score  \\\n",
       "0           0.698276            0.65812            0.57265           0.623932   \n",
       "\n",
       "   split9_test_score  mean_test_score  std_test_score  rank_test_score  \\\n",
       "0           0.649573         0.622458        0.041324                1   \n",
       "\n",
       "   split0_train_score  split1_train_score  split2_train_score  \\\n",
       "0            0.627973            0.631779            0.627973   \n",
       "\n",
       "   split3_train_score  split4_train_score  split5_train_score  \\\n",
       "0            0.635585            0.642586            0.620722   \n",
       "\n",
       "   split6_train_score  split7_train_score  split8_train_score  \\\n",
       "0            0.624167            0.633682            0.641294   \n",
       "\n",
       "   split9_train_score  mean_train_score  std_train_score  \n",
       "0            0.621313          0.630708         0.007298  "
      ]
     },
     "execution_count": 26,
     "metadata": {},
     "output_type": "execute_result"
    }
   ],
   "source": [
    "pd.DataFrame(grid_l2.cv_results_).sort_values(by=\"rank_test_score\").head(1)"
   ]
  },
  {
   "cell_type": "markdown",
   "metadata": {},
   "source": [
    "#### SVC"
   ]
  },
  {
   "cell_type": "code",
   "execution_count": 27,
   "metadata": {},
   "outputs": [
    {
     "data": {
      "text/plain": [
       "GridSearchCV(cv=5, estimator=SVC(class_weight='balanced', random_state=42),\n",
       "             n_jobs=-1,\n",
       "             param_grid={'C': [16, 17, 18, 19],\n",
       "                         'gamma': [0.003, 0.004, 0.005, 0.007, 0.009]},\n",
       "             return_train_score=True, scoring='recall')"
      ]
     },
     "execution_count": 27,
     "metadata": {},
     "output_type": "execute_result"
    }
   ],
   "source": [
    "param_svc = {\"gamma\": [0.003, 0.004, 0.005, 0.007, 0.009],\n",
    "            \"C\":[16, 17, 18, 19]\n",
    "           }\n",
    "grid_svc = GridSearchCV(estimator=SVC(class_weight=\"balanced\", random_state=42), n_jobs=-1, scoring=\"recall\", return_train_score=True, cv=5,\n",
    "                        param_grid = param_svc)\n",
    "grid_svc.fit(X_1, y_1)"
   ]
  },
  {
   "cell_type": "code",
   "execution_count": 28,
   "metadata": {},
   "outputs": [
    {
     "data": {
      "text/plain": [
       "0.8578482080628003"
      ]
     },
     "execution_count": 28,
     "metadata": {},
     "output_type": "execute_result"
    }
   ],
   "source": [
    "grid_svc.best_score_"
   ]
  },
  {
   "cell_type": "code",
   "execution_count": 29,
   "metadata": {},
   "outputs": [
    {
     "data": {
      "text/plain": [
       "{'C': 17, 'gamma': 0.004}"
      ]
     },
     "execution_count": 29,
     "metadata": {},
     "output_type": "execute_result"
    }
   ],
   "source": [
    "grid_svc.best_params_"
   ]
  },
  {
   "cell_type": "code",
   "execution_count": 30,
   "metadata": {},
   "outputs": [
    {
     "data": {
      "text/html": [
       "<div>\n",
       "<style scoped>\n",
       "    .dataframe tbody tr th:only-of-type {\n",
       "        vertical-align: middle;\n",
       "    }\n",
       "\n",
       "    .dataframe tbody tr th {\n",
       "        vertical-align: top;\n",
       "    }\n",
       "\n",
       "    .dataframe thead th {\n",
       "        text-align: right;\n",
       "    }\n",
       "</style>\n",
       "<table border=\"1\" class=\"dataframe\">\n",
       "  <thead>\n",
       "    <tr style=\"text-align: right;\">\n",
       "      <th></th>\n",
       "      <th>mean_fit_time</th>\n",
       "      <th>std_fit_time</th>\n",
       "      <th>mean_score_time</th>\n",
       "      <th>std_score_time</th>\n",
       "      <th>param_C</th>\n",
       "      <th>param_gamma</th>\n",
       "      <th>params</th>\n",
       "      <th>split0_test_score</th>\n",
       "      <th>split1_test_score</th>\n",
       "      <th>split2_test_score</th>\n",
       "      <th>split3_test_score</th>\n",
       "      <th>split4_test_score</th>\n",
       "      <th>mean_test_score</th>\n",
       "      <th>std_test_score</th>\n",
       "      <th>rank_test_score</th>\n",
       "      <th>split0_train_score</th>\n",
       "      <th>split1_train_score</th>\n",
       "      <th>split2_train_score</th>\n",
       "      <th>split3_train_score</th>\n",
       "      <th>split4_train_score</th>\n",
       "      <th>mean_train_score</th>\n",
       "      <th>std_train_score</th>\n",
       "    </tr>\n",
       "  </thead>\n",
       "  <tbody>\n",
       "    <tr>\n",
       "      <th>6</th>\n",
       "      <td>0.367839</td>\n",
       "      <td>0.01132</td>\n",
       "      <td>0.182588</td>\n",
       "      <td>0.01656</td>\n",
       "      <td>17</td>\n",
       "      <td>0.004</td>\n",
       "      <td>{'C': 17, 'gamma': 0.004}</td>\n",
       "      <td>0.819742</td>\n",
       "      <td>0.871795</td>\n",
       "      <td>0.863248</td>\n",
       "      <td>0.871795</td>\n",
       "      <td>0.862661</td>\n",
       "      <td>0.857848</td>\n",
       "      <td>0.01946</td>\n",
       "      <td>1</td>\n",
       "      <td>0.872727</td>\n",
       "      <td>0.869379</td>\n",
       "      <td>0.87045</td>\n",
       "      <td>0.865096</td>\n",
       "      <td>0.862032</td>\n",
       "      <td>0.867937</td>\n",
       "      <td>0.003854</td>\n",
       "    </tr>\n",
       "  </tbody>\n",
       "</table>\n",
       "</div>"
      ],
      "text/plain": [
       "   mean_fit_time  std_fit_time  mean_score_time  std_score_time param_C  \\\n",
       "6       0.367839       0.01132         0.182588         0.01656      17   \n",
       "\n",
       "  param_gamma                     params  split0_test_score  \\\n",
       "6       0.004  {'C': 17, 'gamma': 0.004}           0.819742   \n",
       "\n",
       "   split1_test_score  split2_test_score  split3_test_score  split4_test_score  \\\n",
       "6           0.871795           0.863248           0.871795           0.862661   \n",
       "\n",
       "   mean_test_score  std_test_score  rank_test_score  split0_train_score  \\\n",
       "6         0.857848         0.01946                1            0.872727   \n",
       "\n",
       "   split1_train_score  split2_train_score  split3_train_score  \\\n",
       "6            0.869379             0.87045            0.865096   \n",
       "\n",
       "   split4_train_score  mean_train_score  std_train_score  \n",
       "6            0.862032          0.867937         0.003854  "
      ]
     },
     "execution_count": 30,
     "metadata": {},
     "output_type": "execute_result"
    }
   ],
   "source": [
    "pd.DataFrame(grid_svc.cv_results_).sort_values(by=\"rank_test_score\").head(1)"
   ]
  },
  {
   "cell_type": "code",
   "execution_count": 31,
   "metadata": {},
   "outputs": [],
   "source": [
    "train_score_svc = grid_svc.score(X_1, y_1)"
   ]
  },
  {
   "cell_type": "markdown",
   "metadata": {},
   "source": [
    "#### Random Forest Classifier"
   ]
  },
  {
   "cell_type": "code",
   "execution_count": 32,
   "metadata": {},
   "outputs": [
    {
     "name": "stdout",
     "output_type": "stream",
     "text": [
      "Fitting 10 folds for each of 16 candidates, totalling 160 fits\n"
     ]
    },
    {
     "data": {
      "text/plain": [
       "GridSearchCV(cv=10,\n",
       "             estimator=RandomForestClassifier(n_estimators=900,\n",
       "                                              random_state=42),\n",
       "             n_jobs=-1,\n",
       "             param_grid={'max_features': [4, 6, 8, 10],\n",
       "                         'min_samples_split': [26, 27, 28, 29]},\n",
       "             return_train_score=True, scoring='recall', verbose=1)"
      ]
     },
     "execution_count": 32,
     "metadata": {},
     "output_type": "execute_result"
    }
   ],
   "source": [
    "param_rfc = {#\"n_estimators\": [900, 1000],\n",
    "             \"max_features\": [4, 6, 8, 10],\n",
    "#             \"bootstrap\": [True, False],\n",
    "#             \"max_depth\": [5, 10, 15],\n",
    "             \"min_samples_split\": [26,27,28, 29],\n",
    "#             \"max_leaf_nodes\":[15,18, 20]\n",
    "            }\n",
    "grid_rfc = GridSearchCV(estimator=RandomForestClassifier(random_state=42,n_estimators=900), n_jobs=-1, scoring=\"recall\", \n",
    "                        return_train_score=True,param_grid=param_rfc, verbose=1, cv=10)\n",
    "grid_rfc.fit(X_1, y_1)"
   ]
  },
  {
   "cell_type": "code",
   "execution_count": 33,
   "metadata": {},
   "outputs": [
    {
     "name": "stdout",
     "output_type": "stream",
     "text": [
      "best score Random Forest Classifier: 0.8476201002063073\n",
      "best parameters Random Forest Classifier: {'max_features': 4, 'min_samples_split': 29}\n"
     ]
    }
   ],
   "source": [
    "print(\"best score Random Forest Classifier:\", grid_rfc.best_score_)\n",
    "print(\"best parameters Random Forest Classifier:\", grid_rfc.best_params_)"
   ]
  },
  {
   "cell_type": "code",
   "execution_count": 34,
   "metadata": {},
   "outputs": [
    {
     "data": {
      "text/html": [
       "<div>\n",
       "<style scoped>\n",
       "    .dataframe tbody tr th:only-of-type {\n",
       "        vertical-align: middle;\n",
       "    }\n",
       "\n",
       "    .dataframe tbody tr th {\n",
       "        vertical-align: top;\n",
       "    }\n",
       "\n",
       "    .dataframe thead th {\n",
       "        text-align: right;\n",
       "    }\n",
       "</style>\n",
       "<table border=\"1\" class=\"dataframe\">\n",
       "  <thead>\n",
       "    <tr style=\"text-align: right;\">\n",
       "      <th></th>\n",
       "      <th>mean_fit_time</th>\n",
       "      <th>std_fit_time</th>\n",
       "      <th>mean_score_time</th>\n",
       "      <th>std_score_time</th>\n",
       "      <th>param_max_features</th>\n",
       "      <th>param_min_samples_split</th>\n",
       "      <th>params</th>\n",
       "      <th>split0_test_score</th>\n",
       "      <th>split1_test_score</th>\n",
       "      <th>split2_test_score</th>\n",
       "      <th>split3_test_score</th>\n",
       "      <th>split4_test_score</th>\n",
       "      <th>split5_test_score</th>\n",
       "      <th>split6_test_score</th>\n",
       "      <th>split7_test_score</th>\n",
       "      <th>split8_test_score</th>\n",
       "      <th>split9_test_score</th>\n",
       "      <th>mean_test_score</th>\n",
       "      <th>std_test_score</th>\n",
       "      <th>rank_test_score</th>\n",
       "      <th>split0_train_score</th>\n",
       "      <th>split1_train_score</th>\n",
       "      <th>split2_train_score</th>\n",
       "      <th>split3_train_score</th>\n",
       "      <th>split4_train_score</th>\n",
       "      <th>split5_train_score</th>\n",
       "      <th>split6_train_score</th>\n",
       "      <th>split7_train_score</th>\n",
       "      <th>split8_train_score</th>\n",
       "      <th>split9_train_score</th>\n",
       "      <th>mean_train_score</th>\n",
       "      <th>std_train_score</th>\n",
       "    </tr>\n",
       "  </thead>\n",
       "  <tbody>\n",
       "    <tr>\n",
       "      <th>3</th>\n",
       "      <td>8.684048</td>\n",
       "      <td>0.208285</td>\n",
       "      <td>0.253842</td>\n",
       "      <td>0.013507</td>\n",
       "      <td>4</td>\n",
       "      <td>29</td>\n",
       "      <td>{'max_features': 4, 'min_samples_split': 29}</td>\n",
       "      <td>0.803419</td>\n",
       "      <td>0.777778</td>\n",
       "      <td>0.82906</td>\n",
       "      <td>0.863248</td>\n",
       "      <td>0.844828</td>\n",
       "      <td>0.87069</td>\n",
       "      <td>0.871795</td>\n",
       "      <td>0.880342</td>\n",
       "      <td>0.880342</td>\n",
       "      <td>0.854701</td>\n",
       "      <td>0.84762</td>\n",
       "      <td>0.032766</td>\n",
       "      <td>1</td>\n",
       "      <td>0.895338</td>\n",
       "      <td>0.900095</td>\n",
       "      <td>0.901047</td>\n",
       "      <td>0.891532</td>\n",
       "      <td>0.890684</td>\n",
       "      <td>0.888783</td>\n",
       "      <td>0.88392</td>\n",
       "      <td>0.891532</td>\n",
       "      <td>0.885823</td>\n",
       "      <td>0.887726</td>\n",
       "      <td>0.891648</td>\n",
       "      <td>0.005399</td>\n",
       "    </tr>\n",
       "  </tbody>\n",
       "</table>\n",
       "</div>"
      ],
      "text/plain": [
       "   mean_fit_time  std_fit_time  mean_score_time  std_score_time  \\\n",
       "3       8.684048      0.208285         0.253842        0.013507   \n",
       "\n",
       "  param_max_features param_min_samples_split  \\\n",
       "3                  4                      29   \n",
       "\n",
       "                                         params  split0_test_score  \\\n",
       "3  {'max_features': 4, 'min_samples_split': 29}           0.803419   \n",
       "\n",
       "   split1_test_score  split2_test_score  split3_test_score  split4_test_score  \\\n",
       "3           0.777778            0.82906           0.863248           0.844828   \n",
       "\n",
       "   split5_test_score  split6_test_score  split7_test_score  split8_test_score  \\\n",
       "3            0.87069           0.871795           0.880342           0.880342   \n",
       "\n",
       "   split9_test_score  mean_test_score  std_test_score  rank_test_score  \\\n",
       "3           0.854701          0.84762        0.032766                1   \n",
       "\n",
       "   split0_train_score  split1_train_score  split2_train_score  \\\n",
       "3            0.895338            0.900095            0.901047   \n",
       "\n",
       "   split3_train_score  split4_train_score  split5_train_score  \\\n",
       "3            0.891532            0.890684            0.888783   \n",
       "\n",
       "   split6_train_score  split7_train_score  split8_train_score  \\\n",
       "3             0.88392            0.891532            0.885823   \n",
       "\n",
       "   split9_train_score  mean_train_score  std_train_score  \n",
       "3            0.887726          0.891648         0.005399  "
      ]
     },
     "execution_count": 34,
     "metadata": {},
     "output_type": "execute_result"
    }
   ],
   "source": [
    "pd.DataFrame(grid_rfc.cv_results_).sort_values(by=\"rank_test_score\").head(1)"
   ]
  },
  {
   "cell_type": "code",
   "execution_count": 35,
   "metadata": {},
   "outputs": [],
   "source": [
    "train_score_rfc = grid_rfc.score(X_1, y_1)"
   ]
  },
  {
   "cell_type": "code",
   "execution_count": 36,
   "metadata": {},
   "outputs": [
    {
     "data": {
      "text/plain": [
       "0.8938356164383562"
      ]
     },
     "execution_count": 36,
     "metadata": {},
     "output_type": "execute_result"
    }
   ],
   "source": [
    "train_score_rfc"
   ]
  },
  {
   "cell_type": "markdown",
   "metadata": {},
   "source": [
    "### XGboost"
   ]
  },
  {
   "cell_type": "code",
   "execution_count": 37,
   "metadata": {},
   "outputs": [
    {
     "name": "stdout",
     "output_type": "stream",
     "text": [
      "Fitting 5 folds for each of 6 candidates, totalling 30 fits\n"
     ]
    },
    {
     "data": {
      "text/plain": [
       "GridSearchCV(estimator=XGBClassifier(base_score=None, booster=None,\n",
       "                                     colsample_bylevel=None,\n",
       "                                     colsample_bynode=None,\n",
       "                                     colsample_bytree=None, gamma=None,\n",
       "                                     gpu_id=None, importance_type='gain',\n",
       "                                     interaction_constraints=None,\n",
       "                                     learning_rate=None, max_delta_step=None,\n",
       "                                     max_depth=2, min_child_weight=None,\n",
       "                                     missing=nan, monotone_constraints=None,\n",
       "                                     n_estimators=100, n_jobs=None,\n",
       "                                     num_parallel_tree=None, random_state=42,\n",
       "                                     reg_alpha=None, reg_lambda=None,\n",
       "                                     scale_pos_weight=None, subsample=None,\n",
       "                                     tree_method=None, validate_parameters=None,\n",
       "                                     verbosity=None),\n",
       "             n_jobs=-1,\n",
       "             param_grid={'learning_rate': [0.4, 0.5, 0.6, 0.7, 0.8, 0.9]},\n",
       "             return_train_score=True, scoring='recall', verbose=1)"
      ]
     },
     "execution_count": 37,
     "metadata": {},
     "output_type": "execute_result"
    }
   ],
   "source": [
    "params_xgb = {#\"n_estimators\": [100, 150, 200, 300],\n",
    "#              \"max_depth\":[1,3,5],\n",
    "              \"learning_rate\": [0.4,0.5, 0.6, 0.7, 0.8, 0.9],\n",
    "             }\n",
    "grid_xgb = GridSearchCV(estimator=xgboost.XGBClassifier(random_state=42, max_depth=2, n_estimators=100), n_jobs=-1, \n",
    "                        verbose=1,param_grid=params_xgb, scoring=\"recall\", return_train_score=True)\n",
    "grid_xgb.fit(X_1,y_1)"
   ]
  },
  {
   "cell_type": "code",
   "execution_count": 38,
   "metadata": {},
   "outputs": [
    {
     "data": {
      "text/plain": [
       "0.877524668940978"
      ]
     },
     "execution_count": 38,
     "metadata": {},
     "output_type": "execute_result"
    }
   ],
   "source": [
    "grid_xgb.best_score_"
   ]
  },
  {
   "cell_type": "code",
   "execution_count": 39,
   "metadata": {},
   "outputs": [
    {
     "data": {
      "text/plain": [
       "{'learning_rate': 0.8}"
      ]
     },
     "execution_count": 39,
     "metadata": {},
     "output_type": "execute_result"
    }
   ],
   "source": [
    "grid_xgb.best_params_"
   ]
  },
  {
   "cell_type": "code",
   "execution_count": 40,
   "metadata": {},
   "outputs": [
    {
     "data": {
      "text/html": [
       "<div>\n",
       "<style scoped>\n",
       "    .dataframe tbody tr th:only-of-type {\n",
       "        vertical-align: middle;\n",
       "    }\n",
       "\n",
       "    .dataframe tbody tr th {\n",
       "        vertical-align: top;\n",
       "    }\n",
       "\n",
       "    .dataframe thead th {\n",
       "        text-align: right;\n",
       "    }\n",
       "</style>\n",
       "<table border=\"1\" class=\"dataframe\">\n",
       "  <thead>\n",
       "    <tr style=\"text-align: right;\">\n",
       "      <th></th>\n",
       "      <th>mean_fit_time</th>\n",
       "      <th>std_fit_time</th>\n",
       "      <th>mean_score_time</th>\n",
       "      <th>std_score_time</th>\n",
       "      <th>param_learning_rate</th>\n",
       "      <th>params</th>\n",
       "      <th>split0_test_score</th>\n",
       "      <th>split1_test_score</th>\n",
       "      <th>split2_test_score</th>\n",
       "      <th>split3_test_score</th>\n",
       "      <th>split4_test_score</th>\n",
       "      <th>mean_test_score</th>\n",
       "      <th>std_test_score</th>\n",
       "      <th>rank_test_score</th>\n",
       "      <th>split0_train_score</th>\n",
       "      <th>split1_train_score</th>\n",
       "      <th>split2_train_score</th>\n",
       "      <th>split3_train_score</th>\n",
       "      <th>split4_train_score</th>\n",
       "      <th>mean_train_score</th>\n",
       "      <th>std_train_score</th>\n",
       "    </tr>\n",
       "  </thead>\n",
       "  <tbody>\n",
       "    <tr>\n",
       "      <th>4</th>\n",
       "      <td>0.219743</td>\n",
       "      <td>0.008124</td>\n",
       "      <td>0.003515</td>\n",
       "      <td>0.002224</td>\n",
       "      <td>0.8</td>\n",
       "      <td>{'learning_rate': 0.8}</td>\n",
       "      <td>0.738197</td>\n",
       "      <td>0.760684</td>\n",
       "      <td>0.965812</td>\n",
       "      <td>0.957265</td>\n",
       "      <td>0.965665</td>\n",
       "      <td>0.877525</td>\n",
       "      <td>0.104867</td>\n",
       "      <td>1</td>\n",
       "      <td>0.975401</td>\n",
       "      <td>0.961456</td>\n",
       "      <td>0.947537</td>\n",
       "      <td>0.931478</td>\n",
       "      <td>0.934759</td>\n",
       "      <td>0.950126</td>\n",
       "      <td>0.016479</td>\n",
       "    </tr>\n",
       "  </tbody>\n",
       "</table>\n",
       "</div>"
      ],
      "text/plain": [
       "   mean_fit_time  std_fit_time  mean_score_time  std_score_time  \\\n",
       "4       0.219743      0.008124         0.003515        0.002224   \n",
       "\n",
       "  param_learning_rate                  params  split0_test_score  \\\n",
       "4                 0.8  {'learning_rate': 0.8}           0.738197   \n",
       "\n",
       "   split1_test_score  split2_test_score  split3_test_score  split4_test_score  \\\n",
       "4           0.760684           0.965812           0.957265           0.965665   \n",
       "\n",
       "   mean_test_score  std_test_score  rank_test_score  split0_train_score  \\\n",
       "4         0.877525        0.104867                1            0.975401   \n",
       "\n",
       "   split1_train_score  split2_train_score  split3_train_score  \\\n",
       "4            0.961456            0.947537            0.931478   \n",
       "\n",
       "   split4_train_score  mean_train_score  std_train_score  \n",
       "4            0.934759          0.950126         0.016479  "
      ]
     },
     "execution_count": 40,
     "metadata": {},
     "output_type": "execute_result"
    }
   ],
   "source": [
    "pd.DataFrame(grid_xgb.cv_results_).sort_values(by=\"rank_test_score\").head(1)"
   ]
  },
  {
   "cell_type": "code",
   "execution_count": 41,
   "metadata": {},
   "outputs": [],
   "source": [
    "train_score_xgb = grid_xgb.score(X_1, y_1)"
   ]
  },
  {
   "cell_type": "markdown",
   "metadata": {},
   "source": [
    "#### Top three models"
   ]
  },
  {
   "cell_type": "markdown",
   "metadata": {},
   "source": [
    "From the cross-validation with grid search for the right hyperparameters and parameters for the models, the top three best performing models\n",
    "are:"
   ]
  },
  {
   "cell_type": "code",
   "execution_count": 42,
   "metadata": {},
   "outputs": [
    {
     "data": {
      "text/html": [
       "<div>\n",
       "<style scoped>\n",
       "    .dataframe tbody tr th:only-of-type {\n",
       "        vertical-align: middle;\n",
       "    }\n",
       "\n",
       "    .dataframe tbody tr th {\n",
       "        vertical-align: top;\n",
       "    }\n",
       "\n",
       "    .dataframe thead th {\n",
       "        text-align: right;\n",
       "    }\n",
       "</style>\n",
       "<table border=\"1\" class=\"dataframe\">\n",
       "  <thead>\n",
       "    <tr style=\"text-align: right;\">\n",
       "      <th></th>\n",
       "      <th>Model</th>\n",
       "      <th>Best Average CV Grid_score</th>\n",
       "      <th>Score on Training Data</th>\n",
       "    </tr>\n",
       "  </thead>\n",
       "  <tbody>\n",
       "    <tr>\n",
       "      <th>0</th>\n",
       "      <td>XGBoost</td>\n",
       "      <td>0.877525</td>\n",
       "      <td>0.940925</td>\n",
       "    </tr>\n",
       "    <tr>\n",
       "      <th>1</th>\n",
       "      <td>Random Forest</td>\n",
       "      <td>0.847620</td>\n",
       "      <td>0.893836</td>\n",
       "    </tr>\n",
       "    <tr>\n",
       "      <th>2</th>\n",
       "      <td>Kernel SVM</td>\n",
       "      <td>0.857848</td>\n",
       "      <td>0.870719</td>\n",
       "    </tr>\n",
       "  </tbody>\n",
       "</table>\n",
       "</div>"
      ],
      "text/plain": [
       "           Model  Best Average CV Grid_score  Score on Training Data\n",
       "0        XGBoost                    0.877525                0.940925\n",
       "1  Random Forest                    0.847620                0.893836\n",
       "2     Kernel SVM                    0.857848                0.870719"
      ]
     },
     "execution_count": 42,
     "metadata": {},
     "output_type": "execute_result"
    }
   ],
   "source": [
    "pd.DataFrame({\"Model\": [\"XGBoost\", \"Random Forest\", \"Kernel SVM\"],\n",
    "             \"Best Average CV Grid_score\": [grid_xgb.best_score_, grid_rfc.best_score_, grid_svc.best_score_],\n",
    "             \"Score on Training Data\": [train_score_xgb, train_score_rfc, train_score_svc]})"
   ]
  },
  {
   "cell_type": "markdown",
   "metadata": {},
   "source": [
    "##### Applying the top three models on the test set."
   ]
  },
  {
   "cell_type": "code",
   "execution_count": 43,
   "metadata": {},
   "outputs": [],
   "source": [
    "# applying preprocessing the same preprocessing applied on the train set to the test set\n",
    "X_test, y_test = test.drop(\"churn\", axis=1), test.churn\n",
    "X_test = pd.DataFrame(preprocess.transform(X_test), columns=return_uncorrelated.cols)\n",
    "y_test = pd.Series(label.transform(y_test), name=\"churn\")"
   ]
  },
  {
   "cell_type": "code",
   "execution_count": 44,
   "metadata": {},
   "outputs": [
    {
     "data": {
      "text/html": [
       "<div>\n",
       "<style scoped>\n",
       "    .dataframe tbody tr th:only-of-type {\n",
       "        vertical-align: middle;\n",
       "    }\n",
       "\n",
       "    .dataframe tbody tr th {\n",
       "        vertical-align: top;\n",
       "    }\n",
       "\n",
       "    .dataframe thead th {\n",
       "        text-align: right;\n",
       "    }\n",
       "</style>\n",
       "<table border=\"1\" class=\"dataframe\">\n",
       "  <thead>\n",
       "    <tr style=\"text-align: right;\">\n",
       "      <th></th>\n",
       "      <th>XGBoost</th>\n",
       "      <th>Random Forest Classifier</th>\n",
       "      <th>Support Vector Classifier</th>\n",
       "    </tr>\n",
       "  </thead>\n",
       "  <tbody>\n",
       "    <tr>\n",
       "      <th>0</th>\n",
       "      <td>0.758333</td>\n",
       "      <td>0.783333</td>\n",
       "      <td>0.858333</td>\n",
       "    </tr>\n",
       "  </tbody>\n",
       "</table>\n",
       "</div>"
      ],
      "text/plain": [
       "    XGBoost  Random Forest Classifier  Support Vector Classifier\n",
       "0  0.758333                  0.783333                   0.858333"
      ]
     },
     "execution_count": 44,
     "metadata": {},
     "output_type": "execute_result"
    }
   ],
   "source": [
    "# evaluating all top three models on the test set\n",
    "grid_xgb_test_score = grid_xgb.score(X_test, y_test)\n",
    "grid_rfc_test_score = grid_rfc.score(X_test, y_test)\n",
    "grid_svc_test_score = grid_svc.score(X_test, y_test)\n",
    "test_performance = pd.DataFrame({\"XGBoost\": grid_xgb_test_score,\n",
    "                                \"Random Forest Classifier\": grid_rfc_test_score,\n",
    "                                \"Support Vector Classifier\": grid_svc_test_score}, index=[0])\n",
    "test_performance"
   ]
  },
  {
   "cell_type": "markdown",
   "metadata": {},
   "source": [
    "Random Forest Classifier has the highest recall on the test among the top three models.\n",
    "<br>\n",
    "The classification report, confusion matrix and accuracy of these models are shown below:"
   ]
  },
  {
   "cell_type": "code",
   "execution_count": 45,
   "metadata": {},
   "outputs": [
    {
     "name": "stdout",
     "output_type": "stream",
     "text": [
      "              precision    recall  f1-score   support\n",
      "\n",
      "           0       0.96      0.98      0.97       730\n",
      "           1       0.84      0.78      0.81       120\n",
      "\n",
      "    accuracy                           0.95       850\n",
      "   macro avg       0.90      0.88      0.89       850\n",
      "weighted avg       0.95      0.95      0.95       850\n",
      "\n"
     ]
    }
   ],
   "source": [
    "# classification report for the Random Forest Classifier\n",
    "print(classification_report(y_test, grid_rfc.predict(X_test)))"
   ]
  },
  {
   "cell_type": "code",
   "execution_count": 46,
   "metadata": {},
   "outputs": [
    {
     "name": "stdout",
     "output_type": "stream",
     "text": [
      "              precision    recall  f1-score   support\n",
      "\n",
      "           0       0.96      0.99      0.97       730\n",
      "           1       0.90      0.76      0.82       120\n",
      "\n",
      "    accuracy                           0.95       850\n",
      "   macro avg       0.93      0.87      0.90       850\n",
      "weighted avg       0.95      0.95      0.95       850\n",
      "\n"
     ]
    }
   ],
   "source": [
    "# classification report for the XGBoost Classifier \n",
    "print(classification_report(y_test, grid_xgb.predict(X_test)))"
   ]
  },
  {
   "cell_type": "code",
   "execution_count": 47,
   "metadata": {},
   "outputs": [
    {
     "name": "stdout",
     "output_type": "stream",
     "text": [
      "              precision    recall  f1-score   support\n",
      "\n",
      "           0       0.97      0.86      0.91       730\n",
      "           1       0.50      0.86      0.63       120\n",
      "\n",
      "    accuracy                           0.86       850\n",
      "   macro avg       0.73      0.86      0.77       850\n",
      "weighted avg       0.91      0.86      0.87       850\n",
      "\n"
     ]
    }
   ],
   "source": [
    "# classification report for the Support Vector Classifier\n",
    "print(classification_report(y_test, grid_svc.predict(X_test)))"
   ]
  },
  {
   "cell_type": "code",
   "execution_count": 48,
   "metadata": {},
   "outputs": [
    {
     "data": {
      "text/plain": [
       "<sklearn.metrics._plot.confusion_matrix.ConfusionMatrixDisplay at 0x19a5b431fd0>"
      ]
     },
     "execution_count": 48,
     "metadata": {},
     "output_type": "execute_result"
    },
    {
     "data": {
      "image/png": "[encoded data removed]",
      "text/plain": [
       "<Figure size 720x576 with 2 Axes>"
      ]
     },
     "metadata": {
      "needs_background": "light"
     },
     "output_type": "display_data"
    }
   ],
   "source": [
    "# Confusion matrix for the Random Forest Classifier\n",
    "fig, ax = plt.subplots(figsize=(10, 8))\n",
    "plot_confusion_matrix(estimator=grid_rfc, X=X_test, y_true=y_test, ax=ax)"
   ]
  },
  {
   "cell_type": "code",
   "execution_count": 49,
   "metadata": {},
   "outputs": [
    {
     "data": {
      "text/plain": [
       "<sklearn.metrics._plot.confusion_matrix.ConfusionMatrixDisplay at 0x19a5b1823d0>"
      ]
     },
     "execution_count": 49,
     "metadata": {},
     "output_type": "execute_result"
    },
    {
     "data": {
      "image/png": "[encoded data removed]",
      "text/plain": [
       "<Figure size 720x576 with 2 Axes>"
      ]
     },
     "metadata": {
      "needs_background": "light"
     },
     "output_type": "display_data"
    }
   ],
   "source": [
    "# Confusion matrix for the XGBoost Classifier\n",
    "fig, ax = plt.subplots(figsize=(10,8))\n",
    "plot_confusion_matrix(estimator=grid_xgb, X=X_test, y_true=y_test, ax=ax)"
   ]
  },
  {
   "cell_type": "code",
   "execution_count": 51,
   "metadata": {},
   "outputs": [
    {
     "name": "stdout",
     "output_type": "stream",
     "text": [
      "accuracy of best Random Forest Model is 0.9482352941176471\n"
     ]
    }
   ],
   "source": [
    "# Accuracy of the Random Forest Model\n",
    "TN, FP = confusion_matrix(y_test, grid_rfc.predict(X_test))[0]\n",
    "FN, TP = confusion_matrix(y_test, grid_rfc.predict(X_test))[1]\n",
    "accuracy = (TP+TN)/(TP+TN+FP+FN)\n",
    "print(\"accuracy of best Random Forest Model is\" , accuracy)"
   ]
  },
  {
   "cell_type": "code",
   "execution_count": 52,
   "metadata": {},
   "outputs": [
    {
     "name": "stdout",
     "output_type": "stream",
     "text": [
      "accuracy of best XGBoost Model on the test set is 0.9541176470588235\n"
     ]
    }
   ],
   "source": [
    "# Accuracy of the XGBoost Model\n",
    "TN, FP = confusion_matrix(y_test, grid_xgb.predict(X_test))[0]\n",
    "FN, TP = confusion_matrix(y_test, grid_xgb.predict(X_test))[1]\n",
    "accuracy = (TP+TN)/(TP+TN+FP+FN)\n",
    "print(\"accuracy of best XGBoost Model on the test set is\", accuracy)"
   ]
  },
  {
   "cell_type": "code",
   "execution_count": 53,
   "metadata": {},
   "outputs": [
    {
     "data": {
      "text/plain": [
       "Text(0.5, 0, 'Relative Importance')"
      ]
     },
     "execution_count": 53,
     "metadata": {},
     "output_type": "execute_result"
    },
    {
     "data": {
      "image/png": "[encoded data removed]",
      "text/plain": [
       "<Figure size 720x504 with 1 Axes>"
      ]
     },
     "metadata": {
      "needs_background": "light"
     },
     "output_type": "display_data"
    }
   ],
   "source": [
    "# Feature importance plot of the Random Forest Classifier\n",
    "features = X_1.columns\n",
    "importances = grid_rfc.best_estimator_.feature_importances_\n",
    "indices = np.argsort(importances)\n",
    "plt.figure(figsize=(10, 7))\n",
    "plt.barh(range(len(indices)), importances[indices], color='b', align='center')\n",
    "plt.title(\"Feature Importances\", fontsize=15)\n",
    "plt.yticks(range(len(indices)), features[indices],fontsize=12)\n",
    "plt.xlabel('Relative Importance', fontsize=12)"
   ]
  }
 ],
 "metadata": {
  "kernelspec": {
   "display_name": "Python 3",
   "language": "python",
   "name": "python3"
  },
  "language_info": {
   "codemirror_mode": {
    "name": "ipython",
    "version": 3
   },
   "file_extension": ".py",
   "mimetype": "text/x-python",
   "name": "python",
   "nbconvert_exporter": "python",
   "pygments_lexer": "ipython3",
   "version": "3.8.3"
  }
 },
 "nbformat": 4,
 "nbformat_minor": 4
}
